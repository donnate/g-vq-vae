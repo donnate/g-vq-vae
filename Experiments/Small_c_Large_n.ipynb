{
 "cells": [
  {
   "cell_type": "code",
   "execution_count": 1,
   "metadata": {},
   "outputs": [],
   "source": [
    "import sys\n",
    "sys.path.append( '../Model/' )\n",
    "from torch_geometric.datasets.sbm_dataset import StochasticBlockModelDataset\n",
    "import torch\n",
    "from torch_geometric.utils import to_networkx\n",
    "import networkx as nx\n",
    "from vq_vae import *\n",
    "import matplotlib.pyplot as plt\n",
    "from torch_geometric.utils import negative_sampling\n"
   ]
  },
  {
   "cell_type": "code",
   "execution_count": 2,
   "metadata": {},
   "outputs": [
    {
     "name": "stderr",
     "output_type": "stream",
     "text": [
      "Processing...\n",
      "/Users/liushuhan/opt/anaconda3/lib/python3.9/site-packages/torch_geometric/utils/random.py:78: UserWarning: torch.meshgrid: in an upcoming release, it will be required to pass the indexing argument. (Triggered internally at  /Users/distiller/project/conda/conda-bld/pytorch_1646756029501/work/aten/src/ATen/native/TensorShape.cpp:2228.)\n",
      "  row, col = torch.combinations(torch.arange(num_nodes), r=2).t()\n",
      "Done!\n",
      "/Users/liushuhan/opt/anaconda3/lib/python3.9/site-packages/torch_geometric/data/storage.py:271: UserWarning: Unable to accurately infer 'num_nodes' from the attribute set '{'y', 'edge_index'}'. Please explicitly set 'num_nodes' as an attribute of 'data' to suppress this warning\n",
      "  warnings.warn(\n"
     ]
    }
   ],
   "source": [
    "# mat = [[0.9,0.1,0.1,0.1,0.1], [0.1,0.9,0.1,0.1,0.1], [0.1,0.1,0.9,0.1,0.1], [0.1,0.1,0.1,0.9,0.1], [0.1,0.1,0.1,0.1,0.9]]\n",
    "# size = [10,10,10,10,10]\n",
    "mat = [[0.9,0.1,0.1,0.1], [0.1,0.9,0.1,0.1], [0.1,0.1,0.9,0.1], [0.1,0.1,0.1,0.9]]\n",
    "size = [100,100,100,100]\n",
    "# mat = [[0.8,0.1,0.1], [0.1,0.8,0.1], [0.1,0.1,0.8]]\n",
    "# size = [500,500,500]\n",
    "gen = StochasticBlockModelDataset(\"data\", block_sizes=torch.tensor(size), edge_probs=torch.tensor(mat), is_undirected=True)\n",
    "data = gen.data\n",
    "G = to_networkx(data, to_undirected=True)\n",
    "# nx.draw(G, node_color=data.y)\n",
    "# Fix negative edges\n",
    "neg_edge_index = negative_sampling(data.edge_index, num_neg_samples=sum(size)*10)\n",
    "torch.save(neg_edge_index, \"data//edge_neg_small_large\")\n",
    "neg_edge_index = torch.load(\"data//edge_neg_small_large\")"
   ]
  },
  {
   "cell_type": "code",
   "execution_count": 3,
   "metadata": {},
   "outputs": [],
   "source": [
    "def train_plot_model(prior_beta, beta, lr, epochs=1000):\n",
    "    hidden_dim = 64\n",
    "    latent_dim = 64\n",
    "    num_latent = 30\n",
    "    prior_alpha  = 1\n",
    "    input_dim = 15\n",
    "    torch.manual_seed(2000)\n",
    "    # Initial data\n",
    "    data.x = torch.randn(sum(size),input_dim)\n",
    "    # model\n",
    "    torch.manual_seed(2000)\n",
    "    model = sb_vq_vae(input_dim, hidden_dim, latent_dim, num_latent, beta, prior_alpha, prior_beta)\n",
    "\n",
    "    # move to GPU (if available)\n",
    "    device = torch.device('cuda' if torch.cuda.is_available() else 'cpu')\n",
    "    model = model.to(device)\n",
    "    x = data.x.to(device)\n",
    "    edge_index = data.edge_index.to(device)\n",
    "    # inizialize the optimizer\n",
    "    optimizer = torch.optim.Adam(model.parameters(), lr)\n",
    "\n",
    "    def train(epoch):\n",
    "        model.train()\n",
    "        latent_embedding, quantized_latents, codebook, recon_loss, kl_prior1_loss, pi, v, vq_loss = model(x, edge_index, neg_edge_index=neg_edge_index)\n",
    "        optimizer.zero_grad()\n",
    "        loss =   recon_loss +   kl_prior1_loss  + vq_loss # +  0.001 * kl_cat_loss  + 0.001 * torch.abs(kl_kumar_loss)\n",
    "        loss.backward()\n",
    "        optimizer.step()\n",
    "        # for name, params in model.named_parameters():\n",
    "        #     print(name, eval('model.'+name).grad)\n",
    "        # for name, parma in model.named_parameters():\n",
    "        #     print(name, eval('model.'+name).grad, parma.shape)\n",
    "        return float(loss), latent_embedding, quantized_latents, codebook, recon_loss, kl_prior1_loss, pi, v, vq_loss\n",
    "\n",
    "    loss_min = torch.tensor([100000]) \n",
    "    rec = []\n",
    "    prior_rec = []\n",
    "    recon_rec = []\n",
    "    vq_loss_rec = []\n",
    "\n",
    "    for epoch in range(1, epochs + 1):\n",
    "        loss, latent_embedding, quantized_latents, codebook, recon_loss, kl_prior1_loss, pi, v, vq_loss = train(epoch)\n",
    "        rec.append(loss)\n",
    "        prior_rec.append(float(kl_prior1_loss))\n",
    "        recon_rec.append(float(recon_loss))\n",
    "        vq_loss_rec.append(float(vq_loss))\n",
    "        # for name, param in model.named_parameters():\n",
    "        #     print(name, eval('model.'+name).grad)\n",
    "        if loss < loss_min:\n",
    "            loss_min = loss\n",
    "            model.eval()\n",
    "            latent_embedding_min, quantized_latents_min, codebook_min, recon_loss_min, kl_prior1_loss_min, pi_min, v_min, vq_loss_min = model(x, edge_index, neg_edge_index=neg_edge_index)\n",
    "\n",
    "        if epoch % 100 == 0:\n",
    "            print('Epoch:{:03d}, loss:{:.4f}'.format(epoch, loss))\n",
    "            # print(quantized_latents[0,:])\n",
    "            # for p in model.parameters():\n",
    "            #     print(p[:,0])\n",
    "    plt.plot(prior_rec)\n",
    "    plt.plot(recon_rec)\n",
    "    plt.plot(vq_loss_rec)\n",
    "    model.eval()\n",
    "    _, color = torch.unique(torch.sum(torch.round(quantized_latents_min, decimals=4), dim=1), return_inverse=True)\n",
    "    return prior_rec, recon_rec, vq_loss_rec, color\n",
    "    \n",
    "def purity(color, label):\n",
    "    pur = torch.zeros(torch.max(color)+1, torch.max(label)+1)\n",
    "    for i in range(torch.max(color)+1):\n",
    "        for j in range(torch.max(label)+1):\n",
    "            pur[i,j] = torch.sum((color==i) & (label==j)) / torch.sum(color==i)\n",
    "    return pur\n",
    "\n"
   ]
  },
  {
   "cell_type": "code",
   "execution_count": 4,
   "metadata": {},
   "outputs": [],
   "source": [
    "lr = 1e-2\n",
    "epochs = 1000"
   ]
  },
  {
   "cell_type": "code",
   "execution_count": 5,
   "metadata": {},
   "outputs": [
    {
     "name": "stderr",
     "output_type": "stream",
     "text": [
      "/Users/liushuhan/opt/anaconda3/lib/python3.9/site-packages/torch/distributions/distribution.py:159: UserWarning: sample_n will be deprecated. Use .sample((n,)) instead\n",
      "  warnings.warn('sample_n will be deprecated. Use .sample((n,)) instead', UserWarning)\n"
     ]
    },
    {
     "name": "stdout",
     "output_type": "stream",
     "text": [
      "Epoch:100, loss:2.7854\n",
      "Epoch:200, loss:2.3285\n",
      "Epoch:300, loss:2.1874\n",
      "Epoch:400, loss:2.1050\n",
      "Epoch:500, loss:2.0526\n",
      "Epoch:600, loss:2.0474\n",
      "Epoch:700, loss:2.0458\n",
      "Epoch:800, loss:2.0448\n",
      "Epoch:900, loss:2.0432\n",
      "Epoch:1000, loss:2.0428\n",
      "tensor([[1., 0., 0., 0.],\n",
      "        [0., 0., 0., 1.],\n",
      "        [0., 1., 0., 0.],\n",
      "        [0., 1., 0., 0.],\n",
      "        [0., 1., 0., 0.],\n",
      "        [0., 1., 0., 0.],\n",
      "        [0., 0., 1., 0.]])\n",
      "tensor(6)\n",
      "1.2501431703567505 0.7751522660255432 0.017465075477957726\n"
     ]
    },
    {
     "data": {
      "image/png": "[encoded data removed]",
      "text/plain": [
       "<Figure size 432x288 with 1 Axes>"
      ]
     },
     "metadata": {
      "needs_background": "light"
     },
     "output_type": "display_data"
    }
   ],
   "source": [
    "prior_rec, recon_rec, vq_loss_rec, color = train_plot_model(prior_beta=0.5, beta=0.25, lr=lr, epochs=epochs)\n",
    "print(purity(color, data.y))\n",
    "print(torch.max(color))\n",
    "print(prior_rec[len(prior_rec)-1], recon_rec[len(prior_rec)-1], vq_loss_rec[len(prior_rec)-1])"
   ]
  },
  {
   "cell_type": "code",
   "execution_count": 6,
   "metadata": {},
   "outputs": [
    {
     "name": "stdout",
     "output_type": "stream",
     "text": [
      "Epoch:100, loss:2.5083\n",
      "Epoch:200, loss:2.0047\n",
      "Epoch:300, loss:1.8307\n",
      "Epoch:400, loss:1.7389\n",
      "Epoch:500, loss:1.6965\n",
      "Epoch:600, loss:1.6530\n",
      "Epoch:700, loss:1.6495\n",
      "Epoch:800, loss:1.6484\n",
      "Epoch:900, loss:1.6482\n",
      "Epoch:1000, loss:1.6480\n",
      "tensor([[1., 0., 0., 0.],\n",
      "        [0., 0., 0., 1.],\n",
      "        [0., 1., 0., 0.],\n",
      "        [0., 1., 0., 0.],\n",
      "        [0., 1., 0., 0.],\n",
      "        [0., 1., 0., 0.],\n",
      "        [0., 1., 0., 0.],\n",
      "        [0., 0., 1., 0.]])\n",
      "tensor(7)\n",
      "0.855394184589386 0.774702250957489 0.017886416986584663\n"
     ]
    },
    {
     "data": {
      "image/png": "[encoded data removed]",
      "text/plain": [
       "<Figure size 432x288 with 1 Axes>"
      ]
     },
     "metadata": {
      "needs_background": "light"
     },
     "output_type": "display_data"
    }
   ],
   "source": [
    "prior_rec, recon_rec, vq_loss_rec, color = train_plot_model(prior_beta=1, beta=0.25, lr=lr, epochs=epochs)\n",
    "print(purity(color, data.y))\n",
    "print(torch.max(color))\n",
    "print(prior_rec[len(prior_rec)-1], recon_rec[len(prior_rec)-1], vq_loss_rec[len(prior_rec)-1])"
   ]
  },
  {
   "cell_type": "code",
   "execution_count": 7,
   "metadata": {},
   "outputs": [
    {
     "name": "stdout",
     "output_type": "stream",
     "text": [
      "Epoch:100, loss:2.3722\n",
      "Epoch:200, loss:1.8866\n",
      "Epoch:300, loss:1.6848\n",
      "Epoch:400, loss:1.5880\n",
      "Epoch:500, loss:1.5319\n",
      "Epoch:600, loss:1.5088\n",
      "Epoch:700, loss:1.5077\n",
      "Epoch:800, loss:1.5072\n",
      "Epoch:900, loss:1.5070\n",
      "Epoch:1000, loss:1.5069\n",
      "tensor([[1., 0., 0., 0.],\n",
      "        [0., 0., 0., 1.],\n",
      "        [0., 0., 1., 0.],\n",
      "        [0., 1., 0., 0.],\n",
      "        [0., 1., 0., 0.]])\n",
      "tensor(4)\n",
      "0.711845338344574 0.776593804359436 0.018465764820575714\n"
     ]
    },
    {
     "data": {
      "image/png": "[encoded data removed]",
      "text/plain": [
       "<Figure size 432x288 with 1 Axes>"
      ]
     },
     "metadata": {
      "needs_background": "light"
     },
     "output_type": "display_data"
    }
   ],
   "source": [
    "prior_rec, recon_rec, vq_loss_rec, color = train_plot_model(prior_beta=1.5, beta=0.25, lr=lr, epochs=epochs)\n",
    "print(purity(color, data.y))\n",
    "print(torch.max(color))\n",
    "print(prior_rec[epochs-1], recon_rec[epochs-1], vq_loss_rec[epochs-1])"
   ]
  },
  {
   "cell_type": "code",
   "execution_count": 8,
   "metadata": {},
   "outputs": [
    {
     "name": "stdout",
     "output_type": "stream",
     "text": [
      "Epoch:100, loss:2.2970\n",
      "Epoch:200, loss:1.8922\n",
      "Epoch:300, loss:1.6454\n",
      "Epoch:400, loss:1.5736\n",
      "Epoch:500, loss:1.5525\n",
      "Epoch:600, loss:1.5447\n",
      "Epoch:700, loss:1.5165\n",
      "Epoch:800, loss:1.5160\n",
      "Epoch:900, loss:1.5158\n",
      "Epoch:1000, loss:1.5157\n",
      "tensor([[1., 0., 0., 0.],\n",
      "        [0., 0., 0., 1.],\n",
      "        [0., 1., 0., 0.],\n",
      "        [0., 1., 0., 0.],\n",
      "        [0., 0., 1., 0.]])\n",
      "tensor(4)\n",
      "0.7206194400787354 0.7767156958580017 0.018404118716716766\n"
     ]
    },
    {
     "data": {
      "image/png": "[encoded data removed]",
      "text/plain": [
       "<Figure size 432x288 with 1 Axes>"
      ]
     },
     "metadata": {
      "needs_background": "light"
     },
     "output_type": "display_data"
    }
   ],
   "source": [
    "prior_rec, recon_rec, vq_loss_rec, color = train_plot_model(prior_beta=2.0, beta=0.25, lr=lr, epochs=epochs)\n",
    "print(purity(color, data.y))\n",
    "print(torch.max(color))\n",
    "print(prior_rec[epochs-1], recon_rec[epochs-1], vq_loss_rec[epochs-1])"
   ]
  },
  {
   "cell_type": "code",
   "execution_count": 9,
   "metadata": {},
   "outputs": [
    {
     "name": "stdout",
     "output_type": "stream",
     "text": [
      "Epoch:100, loss:2.3201\n",
      "Epoch:200, loss:1.7133\n",
      "Epoch:300, loss:1.4895\n",
      "Epoch:400, loss:1.4199\n",
      "Epoch:500, loss:1.4047\n",
      "Epoch:600, loss:1.4034\n",
      "Epoch:700, loss:1.4030\n",
      "Epoch:800, loss:1.4026\n",
      "Epoch:900, loss:1.4025\n",
      "Epoch:1000, loss:1.4024\n",
      "tensor([[1., 0., 0., 0.],\n",
      "        [0., 0., 0., 1.],\n",
      "        [0., 1., 0., 0.],\n",
      "        [0., 1., 0., 0.],\n",
      "        [0., 0., 1., 0.]])\n",
      "tensor(4)\n",
      "0.6067747473716736 0.7768415212631226 0.018760699778795242\n"
     ]
    },
    {
     "data": {
      "image/png": "[encoded data removed]",
      "text/plain": [
       "<Figure size 432x288 with 1 Axes>"
      ]
     },
     "metadata": {
      "needs_background": "light"
     },
     "output_type": "display_data"
    }
   ],
   "source": [
    "prior_rec, recon_rec, vq_loss_rec, color = train_plot_model(prior_beta=5.0, beta=0.25, lr=lr, epochs=epochs)\n",
    "print(purity(color, data.y))\n",
    "print(torch.max(color))\n",
    "print(prior_rec[epochs-1], recon_rec[epochs-1], vq_loss_rec[epochs-1])"
   ]
  },
  {
   "cell_type": "code",
   "execution_count": 10,
   "metadata": {},
   "outputs": [
    {
     "name": "stdout",
     "output_type": "stream",
     "text": [
      "Epoch:100, loss:2.1254\n",
      "Epoch:200, loss:1.7079\n",
      "Epoch:300, loss:1.4835\n",
      "Epoch:400, loss:1.4125\n",
      "Epoch:500, loss:1.4006\n",
      "Epoch:600, loss:1.3991\n",
      "Epoch:700, loss:1.3987\n",
      "Epoch:800, loss:1.3984\n",
      "Epoch:900, loss:1.3983\n",
      "Epoch:1000, loss:1.3983\n",
      "tensor([[1., 0., 0., 0.],\n",
      "        [0., 0., 0., 1.],\n",
      "        [0., 0., 0., 1.],\n",
      "        [0., 1., 0., 0.],\n",
      "        [0., 0., 1., 0.]])\n",
      "tensor(4)\n",
      "0.6027565002441406 0.7770819664001465 0.01843133568763733\n"
     ]
    },
    {
     "data": {
      "image/png": "[encoded data removed]",
      "text/plain": [
       "<Figure size 432x288 with 1 Axes>"
      ]
     },
     "metadata": {
      "needs_background": "light"
     },
     "output_type": "display_data"
    }
   ],
   "source": [
    "prior_rec, recon_rec, vq_loss_rec, color = train_plot_model(prior_beta=10.0, beta=0.25, lr=lr, epochs=epochs)\n",
    "print(purity(color, data.y))\n",
    "print(torch.max(color))\n",
    "print(prior_rec[epochs-1], recon_rec[epochs-1], vq_loss_rec[epochs-1])"
   ]
  },
  {
   "cell_type": "code",
   "execution_count": 11,
   "metadata": {},
   "outputs": [
    {
     "name": "stdout",
     "output_type": "stream",
     "text": [
      "Epoch:100, loss:2.2809\n",
      "Epoch:200, loss:1.8401\n",
      "Epoch:300, loss:1.6434\n",
      "Epoch:400, loss:1.5755\n",
      "Epoch:500, loss:1.5645\n",
      "Epoch:600, loss:1.5630\n",
      "Epoch:700, loss:1.5622\n",
      "Epoch:800, loss:1.5621\n",
      "Epoch:900, loss:1.5620\n",
      "Epoch:1000, loss:1.5620\n",
      "tensor([[1., 0., 0., 0.],\n",
      "        [1., 0., 0., 0.],\n",
      "        [1., 0., 0., 0.],\n",
      "        [1., 0., 0., 0.],\n",
      "        [0., 0., 0., 1.],\n",
      "        [0., 0., 0., 1.],\n",
      "        [0., 1., 0., 0.],\n",
      "        [0., 1., 0., 0.],\n",
      "        [0., 1., 0., 0.],\n",
      "        [0., 0., 1., 0.],\n",
      "        [0., 0., 1., 0.]])\n",
      "tensor(10)\n",
      "0.7747653722763062 0.7726145386695862 0.014669027179479599\n"
     ]
    },
    {
     "data": {
      "image/png": "[encoded data removed]",
      "text/plain": [
       "<Figure size 432x288 with 1 Axes>"
      ]
     },
     "metadata": {
      "needs_background": "light"
     },
     "output_type": "display_data"
    }
   ],
   "source": [
    "prior_rec, recon_rec, vq_loss_rec, color = train_plot_model(prior_beta=20, beta=0.25, lr=lr, epochs=epochs)\n",
    "print(purity(color, data.y))\n",
    "print(torch.max(color))\n",
    "print(prior_rec[epochs-1], recon_rec[epochs-1], vq_loss_rec[epochs-1])"
   ]
  },
  {
   "cell_type": "code",
   "execution_count": 14,
   "metadata": {},
   "outputs": [
    {
     "name": "stdout",
     "output_type": "stream",
     "text": [
      "Epoch:100, loss:3.2114\n",
      "Epoch:200, loss:2.7861\n",
      "Epoch:300, loss:2.6441\n",
      "Epoch:400, loss:2.5792\n",
      "Epoch:500, loss:2.5613\n",
      "Epoch:600, loss:2.5585\n",
      "Epoch:700, loss:2.5570\n",
      "Epoch:800, loss:2.5567\n",
      "Epoch:900, loss:2.5567\n",
      "Epoch:1000, loss:2.5566\n",
      "tensor([[1., 0., 0., 0.],\n",
      "        [1., 0., 0., 0.],\n",
      "        [1., 0., 0., 0.],\n",
      "        [1., 0., 0., 0.],\n",
      "        [1., 0., 0., 0.],\n",
      "        [1., 0., 0., 0.],\n",
      "        [0., 0., 0., 1.],\n",
      "        [0., 0., 0., 1.],\n",
      "        [0., 0., 0., 1.],\n",
      "        [0., 0., 0., 1.],\n",
      "        [0., 1., 0., 0.],\n",
      "        [0., 1., 0., 0.],\n",
      "        [0., 1., 0., 0.],\n",
      "        [0., 1., 0., 0.],\n",
      "        [0., 0., 1., 0.],\n",
      "        [0., 0., 1., 0.],\n",
      "        [0., 0., 1., 0.]])\n",
      "tensor(16)\n",
      "1.7774816751480103 0.7686353921890259 0.010526794008910656\n"
     ]
    },
    {
     "data": {
      "image/png": "[encoded data removed]",
      "text/plain": [
       "<Figure size 432x288 with 1 Axes>"
      ]
     },
     "metadata": {
      "needs_background": "light"
     },
     "output_type": "display_data"
    }
   ],
   "source": [
    "prior_rec, recon_rec, vq_loss_rec, color = train_plot_model(prior_beta=100, beta=0.25, lr=lr, epochs=epochs)\n",
    "print(purity(color, data.y))\n",
    "print(torch.max(color))\n",
    "print(prior_rec[epochs-1], recon_rec[epochs-1], vq_loss_rec[epochs-1])"
   ]
  },
  {
   "cell_type": "code",
   "execution_count": 15,
   "metadata": {},
   "outputs": [
    {
     "name": "stdout",
     "output_type": "stream",
     "text": [
      "Epoch:100, loss:4.8939\n",
      "Epoch:200, loss:4.5902\n",
      "Epoch:300, loss:4.4132\n",
      "Epoch:400, loss:4.3367\n",
      "Epoch:500, loss:4.3152\n",
      "Epoch:600, loss:4.3117\n",
      "Epoch:700, loss:4.3115\n",
      "Epoch:800, loss:4.3114\n",
      "Epoch:900, loss:4.3107\n",
      "Epoch:1000, loss:4.3106\n",
      "tensor([[1., 0., 0., 0.],\n",
      "        [1., 0., 0., 0.],\n",
      "        [1., 0., 0., 0.],\n",
      "        [1., 0., 0., 0.],\n",
      "        [1., 0., 0., 0.],\n",
      "        [1., 0., 0., 0.],\n",
      "        [0., 0., 0., 1.],\n",
      "        [0., 0., 0., 1.],\n",
      "        [0., 0., 0., 1.],\n",
      "        [0., 1., 0., 0.],\n",
      "        [0., 1., 0., 0.],\n",
      "        [0., 1., 0., 0.],\n",
      "        [0., 1., 0., 0.],\n",
      "        [0., 1., 0., 0.],\n",
      "        [0., 1., 0., 0.],\n",
      "        [0., 0., 1., 0.],\n",
      "        [0., 0., 1., 0.],\n",
      "        [0., 0., 1., 0.]])\n",
      "tensor(17)\n",
      "3.530191659927368 0.7702792882919312 0.010146602056920528\n"
     ]
    },
    {
     "data": {
      "image/png": "[encoded data removed]",
      "text/plain": [
       "<Figure size 432x288 with 1 Axes>"
      ]
     },
     "metadata": {
      "needs_background": "light"
     },
     "output_type": "display_data"
    }
   ],
   "source": [
    "prior_rec, recon_rec, vq_loss_rec, color = train_plot_model(prior_beta=10000, beta=0.25, lr=lr, epochs=epochs)\n",
    "print(purity(color, data.y))\n",
    "print(torch.max(color))\n",
    "print(prior_rec[epochs-1], recon_rec[epochs-1], vq_loss_rec[epochs-1])"
   ]
  }
 ],
 "metadata": {
  "kernelspec": {
   "display_name": "Python 3.9.7 ('base')",
   "language": "python",
   "name": "python3"
  },
  "language_info": {
   "codemirror_mode": {
    "name": "ipython",
    "version": 3
   },
   "file_extension": ".py",
   "mimetype": "text/x-python",
   "name": "python",
   "nbconvert_exporter": "python",
   "pygments_lexer": "ipython3",
   "version": "3.9.7"
  },
  "orig_nbformat": 4,
  "vscode": {
   "interpreter": {
    "hash": "070abceb24e738bbd6634274827241c1c175321cca14cfcc03bf4e6ff7b889ca"
   }
  }
 },
 "nbformat": 4,
 "nbformat_minor": 2
}
