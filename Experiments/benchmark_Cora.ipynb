{
 "cells": [
  {
   "cell_type": "code",
   "execution_count": 1,
   "metadata": {},
   "outputs": [],
   "source": [
    "import sys\n",
    "sys.path.append( '../Model/' )\n",
    "from torch_geometric.datasets import Planetoid\n",
    "from torch_geometric.transforms import NormalizeFeatures\n",
    "import torch\n",
    "from torch_geometric.utils import from_networkx\n",
    "import networkx as nx\n",
    "from vq_vae_f import *\n",
    "import matplotlib.pyplot as plt\n",
    "from torch_geometric.utils import negative_sampling"
   ]
  },
  {
   "cell_type": "code",
   "execution_count": 2,
   "metadata": {},
   "outputs": [],
   "source": [
    "dataset = Planetoid(root='data/Planetoid', name='Cora', transform=NormalizeFeatures())\n",
    "data = dataset[0]"
   ]
  },
  {
   "cell_type": "code",
   "execution_count": 3,
   "metadata": {},
   "outputs": [],
   "source": [
    "hidden_dim = 64\n",
    "latent_dim = 64\n",
    "num_latent = 30\n",
    "prior_alpha  = 1\n",
    "prior_beta = 2\n",
    "beta = 0.25\n",
    "p_input_dim = 15\n",
    "lr = 5e-2\n",
    "torch.manual_seed(2000)\n",
    "# Initial data\n",
    "x = torch.randn(data.num_nodes,p_input_dim)\n",
    "f_input_dim = data.num_node_features\n",
    "f = data.x\n",
    "\n",
    "# model\n",
    "torch.manual_seed(2000)\n",
    "\n",
    "model = sb_vq_vae_f(p_input_dim, f_input_dim, hidden_dim, latent_dim, num_latent, beta, prior_alpha, prior_beta, number_of_classes=dataset.num_classes,training=True)\n",
    "# move to GPU (if available)\n",
    "device = torch.device('cuda' if torch.cuda.is_available() else 'cpu')\n",
    "model = model.to(device)\n",
    "f = f.to(device)\n",
    "x = x.to(device)\n",
    "\n",
    "edge_index = data.edge_index.to(device)\n",
    "# inizialize the optimizer\n",
    "optimizer = torch.optim.Adam(model.parameters(), lr)"
   ]
  },
  {
   "cell_type": "code",
   "execution_count": 4,
   "metadata": {},
   "outputs": [],
   "source": [
    "criterion = torch.nn.CrossEntropyLoss()"
   ]
  },
  {
   "cell_type": "code",
   "execution_count": 5,
   "metadata": {},
   "outputs": [
    {
     "name": "stderr",
     "output_type": "stream",
     "text": [
      "/Users/liushuhan/opt/anaconda3/lib/python3.9/site-packages/torch/distributions/distribution.py:159: UserWarning: sample_n will be deprecated. Use .sample((n,)) instead\n",
      "  warnings.warn('sample_n will be deprecated. Use .sample((n,)) instead', UserWarning)\n"
     ]
    },
    {
     "name": "stdout",
     "output_type": "stream",
     "text": [
      "Epoch:010, loss:0.8355, acc:0.4830\n",
      "Epoch:020, loss:0.5363, acc:0.4910\n",
      "Epoch:030, loss:0.5555, acc:0.6110\n",
      "Epoch:040, loss:0.0674, acc:0.6110\n",
      "Epoch:050, loss:0.0144, acc:0.6110\n",
      "Epoch:060, loss:0.0259, acc:0.6110\n",
      "Epoch:070, loss:0.0052, acc:0.6110\n",
      "Epoch:080, loss:0.0115, acc:0.6110\n",
      "Epoch:090, loss:0.0048, acc:0.6110\n",
      "Epoch:100, loss:0.0061, acc:0.6110\n",
      "Epoch:110, loss:0.0047, acc:0.6110\n",
      "Epoch:120, loss:0.0042, acc:0.6110\n",
      "Epoch:130, loss:0.0039, acc:0.6110\n",
      "Epoch:140, loss:0.0035, acc:0.6110\n",
      "Epoch:150, loss:0.0032, acc:0.6110\n",
      "Epoch:160, loss:0.0030, acc:0.6110\n",
      "Epoch:170, loss:0.0028, acc:0.6110\n",
      "Epoch:180, loss:0.0026, acc:0.6110\n",
      "Epoch:190, loss:0.0024, acc:0.6110\n",
      "Epoch:200, loss:0.0023, acc:0.6110\n",
      "Epoch:210, loss:0.0022, acc:0.6110\n",
      "Epoch:220, loss:0.0020, acc:0.6110\n",
      "Epoch:230, loss:0.0019, acc:0.6110\n",
      "Epoch:240, loss:0.0018, acc:0.6110\n",
      "Epoch:250, loss:0.0017, acc:0.6110\n",
      "Epoch:260, loss:0.0017, acc:0.6110\n",
      "Epoch:270, loss:0.0016, acc:0.6110\n",
      "Epoch:280, loss:0.0015, acc:0.6110\n",
      "Epoch:290, loss:0.0014, acc:0.6110\n",
      "Epoch:300, loss:0.0014, acc:0.6110\n",
      "Epoch:310, loss:0.0013, acc:0.6110\n",
      "Epoch:320, loss:0.0013, acc:0.6110\n",
      "Epoch:330, loss:0.0012, acc:0.6110\n",
      "Epoch:340, loss:0.0012, acc:0.6110\n",
      "Epoch:350, loss:0.0011, acc:0.6110\n",
      "Epoch:360, loss:0.0011, acc:0.6110\n",
      "Epoch:370, loss:0.0011, acc:0.6110\n",
      "Epoch:380, loss:0.0010, acc:0.6110\n",
      "Epoch:390, loss:0.0010, acc:0.6110\n",
      "Epoch:400, loss:0.0010, acc:0.6110\n",
      "Epoch:410, loss:0.0009, acc:0.6110\n",
      "Epoch:420, loss:0.0009, acc:0.6110\n",
      "Epoch:430, loss:0.0009, acc:0.6110\n",
      "Epoch:440, loss:0.0009, acc:0.6110\n",
      "Epoch:450, loss:0.0008, acc:0.6110\n",
      "Epoch:460, loss:0.0008, acc:0.6110\n",
      "Epoch:470, loss:0.0008, acc:0.6110\n",
      "Epoch:480, loss:0.0008, acc:0.6110\n",
      "Epoch:490, loss:0.0008, acc:0.6110\n",
      "Epoch:500, loss:0.0007, acc:0.6110\n"
     ]
    },
    {
     "data": {
      "text/plain": [
       "[<matplotlib.lines.Line2D at 0x7fd9dbb1afd0>]"
      ]
     },
     "execution_count": 5,
     "metadata": {},
     "output_type": "execute_result"
    },
    {
     "data": {
      "image/png": "[encoded data removed]",
      "text/plain": [
       "<Figure size 432x288 with 1 Axes>"
      ]
     },
     "metadata": {
      "needs_background": "light"
     },
     "output_type": "display_data"
    }
   ],
   "source": [
    "def train(epoch):\n",
    "    model.train()\n",
    "    recon_p_loss, recon_f_loss, kl_prior_loss_p, kl_prior_loss_f, vq_loss_p, vq_loss_f, output = model(x, f, edge_index, neg_edge_index=None)\n",
    "    optimizer.zero_grad()\n",
    "    unsup_loss =  recon_p_loss  +  recon_f_loss  + kl_prior_loss_p  + kl_prior_loss_f + vq_loss_p + vq_loss_f # +  0.001 * kl_cat_loss  + 0.001 * torch.abs(kl_kumar_loss)\n",
    "    sup_loss = criterion(output[data.train_mask], data.y[data.train_mask])\n",
    "    loss = unsup_loss + sup_loss\n",
    "    loss.backward()\n",
    "    optimizer.step()\n",
    "    # for name, params in model.named_parameters():\n",
    "    #     print(name, eval('model.'+name).grad)\n",
    "    # for name, parma in model.named_parameters():\n",
    "    #     print(name, eval('model.'+name).grad, parma.shape)\n",
    "    return float(sup_loss), output\n",
    "\n",
    "def test():\n",
    "    model.eval()\n",
    "    recon_p_loss, recon_f_loss, kl_prior_loss_p, kl_prior_loss_f, vq_loss_p, vq_loss_f, output = model(x, f, edge_index, neg_edge_index=None)\n",
    "    pred = output.argmax(dim=1)  \n",
    "    test_correct = pred[data.test_mask] == data.y[data.test_mask] \n",
    "    test_acc = int(test_correct.sum()) / int(data.test_mask.sum())  \n",
    "    return test_acc\n",
    "\n",
    "epochs = 500\n",
    "loss_min = torch.tensor([100000])\n",
    "rec = []\n",
    "prior1_rec = []\n",
    "recon_rec = []\n",
    "acc_max = 0\n",
    "\n",
    "\n",
    "for epoch in range(1, epochs + 1):\n",
    "    loss, output = train(epoch)\n",
    "    rec.append(float(loss))\n",
    "    acc = test()\n",
    "    if acc > acc_max:\n",
    "        acc_max = acc\n",
    "    # prior1_rec.append(float(kl_prior1_loss))\n",
    "    # recon_rec.append(float(recon_loss))\n",
    "    # for name, param in model.named_parameters():\n",
    "    #     print(name, eval('model.'+name).grad)\n",
    "    if epoch % 10 == 0:\n",
    "        print('Epoch:{:03d}, loss:{:.4f}, acc:{:.4f}'.format(epoch, loss, acc_max))\n",
    "        # print(quantized_latents[0,:])\n",
    "        # for p in model.parameters():\n",
    "        #     print(p[:,0])\n",
    "# plt.plot(prior1_rec)\n",
    "plt.plot(rec)"
   ]
  },
  {
   "cell_type": "code",
   "execution_count": 19,
   "metadata": {},
   "outputs": [],
   "source": [
    "hidden_dim = 64\n",
    "latent_dim = 64\n",
    "num_latent = 30\n",
    "prior_alpha  = 1\n",
    "prior_beta = 2\n",
    "beta = 0.25\n",
    "p_input_dim = 15\n",
    "lr = 5e-2\n",
    "torch.manual_seed(2000)\n",
    "# Initial data\n",
    "x = torch.randn(data.num_nodes,p_input_dim)\n",
    "f_input_dim = data.num_node_features\n",
    "f = data.x\n",
    "\n",
    "# model\n",
    "torch.manual_seed(2000)\n",
    "\n",
    "model = sb_vq_vae_f(p_input_dim, f_input_dim, hidden_dim, latent_dim, num_latent, beta, prior_alpha, prior_beta, number_of_classes=dataset.num_classes,training=True)\n",
    "# move to GPU (if available)\n",
    "device = torch.device('cuda' if torch.cuda.is_available() else 'cpu')\n",
    "model = model.to(device)\n",
    "f = f.to(device)\n",
    "x = x.to(device)\n",
    "\n",
    "edge_index = data.edge_index.to(device)\n",
    "# inizialize the optimizer\n",
    "optimizer = torch.optim.Adam(model.parameters(), lr)"
   ]
  },
  {
   "cell_type": "code",
   "execution_count": 20,
   "metadata": {},
   "outputs": [
    {
     "name": "stdout",
     "output_type": "stream",
     "text": [
      "Epoch:001, loss:1.9806, acc:0.2580\n",
      "Epoch:002, loss:2.0263, acc:0.3260\n",
      "Epoch:003, loss:1.2969, acc:0.3390\n",
      "Epoch:004, loss:0.9575, acc:0.5100\n",
      "Epoch:005, loss:0.7416, acc:0.5280\n",
      "Epoch:006, loss:0.5663, acc:0.5280\n",
      "Epoch:007, loss:0.4795, acc:0.5280\n",
      "Epoch:008, loss:0.2960, acc:0.5340\n",
      "Epoch:009, loss:0.2651, acc:0.5700\n",
      "Epoch:010, loss:0.1283, acc:0.6070\n",
      "Epoch:011, loss:0.0865, acc:0.6470\n",
      "Epoch:012, loss:0.0598, acc:0.6490\n",
      "Epoch:013, loss:0.0598, acc:0.6490\n",
      "Epoch:014, loss:0.0132, acc:0.6660\n",
      "Epoch:015, loss:0.0039, acc:0.6780\n",
      "Epoch:016, loss:0.0146, acc:0.6900\n",
      "Epoch:017, loss:0.0112, acc:0.7080\n",
      "Epoch:018, loss:0.0074, acc:0.7180\n",
      "Epoch:019, loss:0.0030, acc:0.7230\n",
      "Epoch:020, loss:0.0014, acc:0.7230\n",
      "Epoch:021, loss:0.0005, acc:0.7230\n",
      "Epoch:022, loss:0.0003, acc:0.7250\n",
      "Epoch:023, loss:0.0004, acc:0.7250\n",
      "Epoch:024, loss:0.0003, acc:0.7250\n",
      "Epoch:025, loss:0.0002, acc:0.7250\n",
      "Epoch:026, loss:0.0001, acc:0.7250\n",
      "Epoch:027, loss:0.0001, acc:0.7250\n",
      "Epoch:028, loss:0.0001, acc:0.7250\n",
      "Epoch:029, loss:0.0002, acc:0.7250\n",
      "Epoch:030, loss:0.0003, acc:0.7250\n",
      "Epoch:031, loss:0.0003, acc:0.7250\n",
      "Epoch:032, loss:0.0002, acc:0.7250\n",
      "Epoch:033, loss:0.0001, acc:0.7250\n",
      "Epoch:034, loss:0.0001, acc:0.7250\n",
      "Epoch:035, loss:0.0001, acc:0.7250\n",
      "Epoch:036, loss:0.0000, acc:0.7250\n",
      "Epoch:037, loss:0.0000, acc:0.7250\n",
      "Epoch:038, loss:0.0000, acc:0.7250\n",
      "Epoch:039, loss:0.0000, acc:0.7250\n",
      "Epoch:040, loss:0.0000, acc:0.7250\n",
      "Epoch:041, loss:0.0000, acc:0.7250\n",
      "Epoch:042, loss:0.0000, acc:0.7250\n",
      "Epoch:043, loss:0.0000, acc:0.7250\n",
      "Epoch:044, loss:0.0000, acc:0.7250\n",
      "Epoch:045, loss:0.0000, acc:0.7250\n",
      "Epoch:046, loss:0.0000, acc:0.7250\n",
      "Epoch:047, loss:0.0000, acc:0.7250\n",
      "Epoch:048, loss:0.0000, acc:0.7250\n",
      "Epoch:049, loss:0.0000, acc:0.7250\n",
      "Epoch:050, loss:0.0000, acc:0.7250\n"
     ]
    },
    {
     "data": {
      "text/plain": [
       "[<matplotlib.lines.Line2D at 0x7fd9a922de50>]"
      ]
     },
     "execution_count": 20,
     "metadata": {},
     "output_type": "execute_result"
    },
    {
     "data": {
      "image/png": "[encoded data removed]",
      "text/plain": [
       "<Figure size 432x288 with 1 Axes>"
      ]
     },
     "metadata": {
      "needs_background": "light"
     },
     "output_type": "display_data"
    }
   ],
   "source": [
    "criterion = torch.nn.CrossEntropyLoss()\n",
    "def train(epoch):\n",
    "    model.train()\n",
    "    recon_p_loss, recon_f_loss, kl_prior_loss_p, kl_prior_loss_f, vq_loss_p, vq_loss_f, output = model(x, f, edge_index, neg_edge_index=None)\n",
    "    optimizer.zero_grad()\n",
    "    unsup_loss =  recon_p_loss  +  recon_f_loss  + kl_prior_loss_p  + kl_prior_loss_f + vq_loss_p + vq_loss_f # +  0.001 * kl_cat_loss  + 0.001 * torch.abs(kl_kumar_loss)\n",
    "    sup_loss = criterion(output[data.train_mask], data.y[data.train_mask])\n",
    "    loss = sup_loss\n",
    "    loss.backward()\n",
    "    optimizer.step()\n",
    "    # for name, params in model.named_parameters():\n",
    "    #     print(name, eval('model.'+name).grad)\n",
    "    # for name, parma in model.named_parameters():\n",
    "    #     print(name, eval('model.'+name).grad, parma.shape)\n",
    "    return float(loss), output\n",
    "\n",
    "def test():\n",
    "    model.eval()\n",
    "    recon_p_loss, recon_f_loss, kl_prior_loss_p, kl_prior_loss_f, vq_loss_p, vq_loss_f, output = model(x, f, edge_index, neg_edge_index=None)\n",
    "    pred = output.argmax(dim=1)  \n",
    "    test_correct = pred[data.test_mask] == data.y[data.test_mask] \n",
    "    test_acc = int(test_correct.sum()) / int(data.test_mask.sum())  \n",
    "    return test_acc\n",
    "\n",
    "epochs = 50\n",
    "loss_min = torch.tensor([100000])\n",
    "rec = []\n",
    "prior1_rec = []\n",
    "recon_rec = []\n",
    "acc_max = 0\n",
    "\n",
    "\n",
    "for epoch in range(1, epochs + 1):\n",
    "    loss, output = train(epoch)\n",
    "    rec.append(float(loss))\n",
    "    acc = test()\n",
    "    if acc > acc_max:\n",
    "        acc_max = acc\n",
    "    # prior1_rec.append(float(kl_prior1_loss))\n",
    "    # recon_rec.append(float(recon_loss))\n",
    "    # for name, param in model.named_parameters():\n",
    "    #     print(name, eval('model.'+name).grad)\n",
    "    if epoch % 1 == 0:\n",
    "        print('Epoch:{:03d}, loss:{:.4f}, acc:{:.4f}'.format(epoch, loss, acc_max))\n",
    "        # print(quantized_latents[0,:])\n",
    "        # for p in model.parameters():\n",
    "        #     print(p[:,0])\n",
    "# plt.plot(prior1_rec)\n",
    "plt.plot(rec)"
   ]
  }
 ],
 "metadata": {
  "kernelspec": {
   "display_name": "Python 3.9.7 ('base')",
   "language": "python",
   "name": "python3"
  },
  "language_info": {
   "codemirror_mode": {
    "name": "ipython",
    "version": 3
   },
   "file_extension": ".py",
   "mimetype": "text/x-python",
   "name": "python",
   "nbconvert_exporter": "python",
   "pygments_lexer": "ipython3",
   "version": "3.9.7"
  },
  "orig_nbformat": 4,
  "vscode": {
   "interpreter": {
    "hash": "070abceb24e738bbd6634274827241c1c175321cca14cfcc03bf4e6ff7b889ca"
   }
  }
 },
 "nbformat": 4,
 "nbformat_minor": 2
}
