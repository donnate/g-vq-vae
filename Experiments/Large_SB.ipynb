{
 "cells": [
  {
   "cell_type": "code",
   "execution_count": 1,
   "metadata": {},
   "outputs": [],
   "source": [
    "import sys\n",
    "sys.path.append( '../Model/' )\n",
    "from torch_geometric.datasets.sbm_dataset import StochasticBlockModelDataset\n",
    "import torch\n",
    "from torch_geometric.utils import from_networkx\n",
    "from torch_geometric.utils import to_networkx\n",
    "import networkx as nx\n",
    "from vq_vae import *\n",
    "import matplotlib.pyplot as plt\n",
    "from torch_geometric.utils import negative_sampling"
   ]
  },
  {
   "cell_type": "code",
   "execution_count": 2,
   "metadata": {},
   "outputs": [
    {
     "name": "stdout",
     "output_type": "stream",
     "text": [
      "124\n"
     ]
    }
   ],
   "source": [
    "K = 10\n",
    "torch.manual_seed(2000)\n",
    "size = torch.randint(10,15,(K,))\n",
    "# size = torch.tensor([10,10,10,10])\n",
    "mat = torch.ones((K,K)) * 0.1\n",
    "mat = mat.fill_diagonal_(0.9) \n",
    "g = nx.stochastic_block_model(size.numpy(), mat.numpy(), seed=0)\n",
    "a = nx.Graph()\n",
    "a.add_edges_from(g.edges)\n",
    "data = from_networkx(a)\n",
    "l = 0\n",
    "label = torch.tensor([])\n",
    "for i in range(size.shape[0]):\n",
    "    label = torch.cat([label, i*torch.ones((1,size[i]), dtype=torch.int)], dim=1) # real label\n",
    "label = label.reshape(-1)\n",
    "label = label.to(torch.int16)\n",
    "print(g.number_of_nodes()) # 1377\n",
    "# Fix negative edges\n",
    "neg_edge_index = negative_sampling(data.edge_index, num_neg_samples=torch.sum(size)*10)\n",
    "torch.save(neg_edge_index, \"data//edge_neg_large\")\n",
    "neg_edge_index = torch.load(\"data//edge_neg_large\") "
   ]
  },
  {
   "cell_type": "code",
   "execution_count": 3,
   "metadata": {},
   "outputs": [],
   "source": [
    "def train_plot_model(prior_beta, beta, lr, epochs=1000):\n",
    "    hidden_dim = 64\n",
    "    latent_dim = 64\n",
    "    num_latent = 30\n",
    "    prior_alpha  = 1\n",
    "    input_dim = 15\n",
    "    torch.manual_seed(2000)\n",
    "    # Initial data\n",
    "    data.x = torch.randn(sum(size),input_dim)\n",
    "    # model\n",
    "    torch.manual_seed(2000)\n",
    "    model = sb_vq_vae(input_dim, hidden_dim, latent_dim, num_latent, beta, prior_alpha, prior_beta)\n",
    "\n",
    "    # move to GPU (if available)\n",
    "    device = torch.device('cuda' if torch.cuda.is_available() else 'cpu')\n",
    "    model = model.to(device)\n",
    "    x = data.x.to(device)\n",
    "    edge_index = data.edge_index.to(device)\n",
    "    # inizialize the optimizer\n",
    "    optimizer = torch.optim.Adam(model.parameters(), lr)\n",
    "\n",
    "    def train(epoch):\n",
    "        model.train()\n",
    "        latent_embedding, quantized_latents, codebook, recon_loss, kl_prior1_loss, pi, v, vq_loss = model(x, edge_index, neg_edge_index=neg_edge_index)\n",
    "        optimizer.zero_grad()\n",
    "        loss =   recon_loss +   kl_prior1_loss  + vq_loss # +  0.001 * kl_cat_loss  + 0.001 * torch.abs(kl_kumar_loss)\n",
    "        loss.backward()\n",
    "        optimizer.step()\n",
    "        # for name, params in model.named_parameters():\n",
    "        #     print(name, eval('model.'+name).grad)\n",
    "        # for name, parma in model.named_parameters():\n",
    "        #     print(name, eval('model.'+name).grad, parma.shape)\n",
    "        return float(loss), latent_embedding, quantized_latents, codebook, recon_loss, kl_prior1_loss, pi, v, vq_loss\n",
    "\n",
    "    loss_min = torch.tensor([100000]) \n",
    "    rec = []\n",
    "    prior_rec = []\n",
    "    recon_rec = []\n",
    "    vq_loss_rec = []\n",
    "\n",
    "    for epoch in range(1, epochs + 1):\n",
    "        loss, latent_embedding, quantized_latents, codebook, recon_loss, kl_prior1_loss, pi, v, vq_loss = train(epoch)\n",
    "        rec.append(loss)\n",
    "        prior_rec.append(float(kl_prior1_loss))\n",
    "        recon_rec.append(float(recon_loss))\n",
    "        vq_loss_rec.append(float(vq_loss))\n",
    "        # for name, param in model.named_parameters():\n",
    "        #     print(name, eval('model.'+name).grad)\n",
    "        if loss < loss_min:\n",
    "            loss_min = loss\n",
    "            model.eval()\n",
    "            latent_embedding_min, quantized_latents_min, codebook_min, recon_loss_min, kl_prior1_loss_min, pi_min, v_min, vq_loss_min = model(x, edge_index, neg_edge_index=neg_edge_index)\n",
    "\n",
    "        if epoch % 100 == 0:\n",
    "            print('Epoch:{:03d}, loss:{:.4f}'.format(epoch, loss))\n",
    "            # print(quantized_latents[0,:])\n",
    "            # for p in model.parameters():\n",
    "            #     print(p[:,0])\n",
    "    plt.plot(prior_rec)\n",
    "    plt.plot(recon_rec)\n",
    "    plt.plot(vq_loss_rec)\n",
    "    model.eval()\n",
    "    _, color = torch.unique(torch.sum(torch.round(quantized_latents_min, decimals=4), dim=1), return_inverse=True)\n",
    "    return prior_rec, recon_rec, vq_loss_rec, color\n",
    "    \n",
    "def purity(color, label):\n",
    "    pur = torch.zeros(torch.max(color)+1, torch.max(label)+1)\n",
    "    for i in range(torch.max(color)+1):\n",
    "        for j in range(torch.max(label)+1):\n",
    "            pur[i,j] = torch.sum((color==i) & (label==j)) / torch.sum(color==i)\n",
    "    return pur\n",
    "\n"
   ]
  },
  {
   "cell_type": "code",
   "execution_count": 4,
   "metadata": {},
   "outputs": [],
   "source": [
    "lr=1e-2\n",
    "epochs=1000"
   ]
  },
  {
   "cell_type": "code",
   "execution_count": 5,
   "metadata": {},
   "outputs": [
    {
     "name": "stderr",
     "output_type": "stream",
     "text": [
      "/Users/liushuhan/opt/anaconda3/lib/python3.9/site-packages/torch/distributions/distribution.py:159: UserWarning: sample_n will be deprecated. Use .sample((n,)) instead\n",
      "  warnings.warn('sample_n will be deprecated. Use .sample((n,)) instead', UserWarning)\n"
     ]
    },
    {
     "name": "stdout",
     "output_type": "stream",
     "text": [
      "Epoch:100, loss:4.4924\n",
      "Epoch:200, loss:3.1818\n",
      "Epoch:300, loss:3.1065\n",
      "Epoch:400, loss:3.0117\n",
      "Epoch:500, loss:2.9636\n",
      "Epoch:600, loss:2.9470\n",
      "Epoch:700, loss:2.9396\n",
      "Epoch:800, loss:2.9396\n",
      "Epoch:900, loss:2.9395\n",
      "Epoch:1000, loss:2.9394\n",
      "tensor([[0.4286, 0.1071, 0.0714, 0.0714, 0.0000, 0.0357, 0.0714, 0.1071, 0.0714,\n",
      "         0.0357],\n",
      "        [0.0000, 0.0000, 0.0000, 0.0000, 0.0000, 0.5000, 0.5000, 0.0000, 0.0000,\n",
      "         0.0000],\n",
      "        [0.0000, 0.2500, 0.0000, 0.2500, 0.2500, 0.0000, 0.2500, 0.0000, 0.0000,\n",
      "         0.0000],\n",
      "        [0.0357, 0.1429, 0.1786, 0.0714, 0.1429, 0.1071, 0.0714, 0.1071, 0.1071,\n",
      "         0.0357],\n",
      "        [0.0000, 0.0000, 0.0000, 0.0000, 0.0000, 0.0000, 0.0000, 1.0000, 0.0000,\n",
      "         0.0000],\n",
      "        [0.0000, 0.0000, 0.2500, 0.2500, 0.0000, 0.2500, 0.0000, 0.0000, 0.0000,\n",
      "         0.2500],\n",
      "        [0.0000, 0.1667, 0.0833, 0.2500, 0.1667, 0.0833, 0.0000, 0.0833, 0.0833,\n",
      "         0.0833],\n",
      "        [0.0000, 0.0000, 1.0000, 0.0000, 0.0000, 0.0000, 0.0000, 0.0000, 0.0000,\n",
      "         0.0000],\n",
      "        [0.0000, 0.0000, 0.0000, 0.0000, 0.0000, 0.0000, 0.0000, 0.5000, 0.0000,\n",
      "         0.5000],\n",
      "        [0.0000, 0.0000, 0.0000, 0.0000, 0.3333, 0.0000, 0.0000, 0.0000, 0.0000,\n",
      "         0.6667],\n",
      "        [0.0000, 0.1000, 0.0500, 0.1000, 0.1500, 0.1500, 0.1500, 0.1000, 0.1000,\n",
      "         0.1000],\n",
      "        [0.0000, 0.0000, 0.0000, 0.0000, 0.0000, 0.0000, 0.0000, 1.0000, 0.0000,\n",
      "         0.0000],\n",
      "        [0.0000, 0.0000, 0.0000, 0.0000, 0.0000, 0.5000, 0.0000, 0.0000, 0.0000,\n",
      "         0.5000],\n",
      "        [0.0000, 0.0000, 0.0000, 0.0000, 0.2500, 0.2500, 0.2500, 0.0000, 0.0000,\n",
      "         0.2500],\n",
      "        [0.0000, 0.0000, 0.0000, 0.0000, 0.5000, 0.0000, 0.0000, 0.0000, 0.5000,\n",
      "         0.0000],\n",
      "        [0.0000, 0.0000, 0.0000, 0.0000, 0.0000, 0.5000, 0.0000, 0.0000, 0.0000,\n",
      "         0.5000],\n",
      "        [0.0000, 0.0000, 0.0000, 0.0000, 0.0000, 0.0000, 0.3333, 0.3333, 0.3333,\n",
      "         0.0000],\n",
      "        [0.0000, 0.0000, 0.0000, 0.0000, 0.0000, 0.0000, 0.5000, 0.0000, 0.5000,\n",
      "         0.0000],\n",
      "        [0.0000, 0.0000, 0.0000, 0.5000, 0.0000, 0.0000, 0.0000, 0.0000, 0.5000,\n",
      "         0.0000],\n",
      "        [0.0000, 0.0000, 0.0000, 0.0000, 0.0000, 0.0000, 0.0000, 0.0000, 0.0000,\n",
      "         1.0000]])\n",
      "tensor(19)\n",
      "1.3904106616973877 1.2087504863739014 0.34020325541496277\n"
     ]
    },
    {
     "data": {
      "image/png": "[encoded data removed]",
      "text/plain": [
       "<Figure size 432x288 with 1 Axes>"
      ]
     },
     "metadata": {
      "needs_background": "light"
     },
     "output_type": "display_data"
    }
   ],
   "source": [
    "prior_rec, recon_rec, vq_loss_rec, color = train_plot_model(prior_beta=0.5, beta=0.25, lr=lr, epochs=epochs)\n",
    "print(purity(color, label))\n",
    "print(torch.max(color))\n",
    "print(prior_rec[len(prior_rec)-1], recon_rec[len(prior_rec)-1], vq_loss_rec[len(prior_rec)-1])"
   ]
  },
  {
   "cell_type": "code",
   "execution_count": 6,
   "metadata": {},
   "outputs": [
    {
     "name": "stdout",
     "output_type": "stream",
     "text": [
      "Epoch:100, loss:4.0398\n",
      "Epoch:200, loss:2.9885\n",
      "Epoch:300, loss:2.8384\n",
      "Epoch:400, loss:2.8011\n",
      "Epoch:500, loss:2.7850\n",
      "Epoch:600, loss:2.7894\n",
      "Epoch:700, loss:2.7755\n",
      "Epoch:800, loss:2.7828\n",
      "Epoch:900, loss:2.7736\n",
      "Epoch:1000, loss:2.7128\n",
      "tensor([[0.0000, 0.0000, 0.0000, 0.0000, 0.0000, 1.0000, 0.0000, 0.0000, 0.0000,\n",
      "         0.0000],\n",
      "        [0.0000, 0.0000, 0.0000, 0.0000, 0.0000, 0.0000, 1.0000, 0.0000, 0.0000,\n",
      "         0.0000],\n",
      "        [0.0000, 0.0000, 0.0000, 0.0000, 0.0000, 0.2857, 0.1429, 0.1429, 0.1429,\n",
      "         0.2857],\n",
      "        [0.0000, 0.0417, 0.0833, 0.1250, 0.2083, 0.1667, 0.1250, 0.0000, 0.0833,\n",
      "         0.1667],\n",
      "        [0.0357, 0.1786, 0.1429, 0.0714, 0.1429, 0.0714, 0.0714, 0.1071, 0.1071,\n",
      "         0.0714],\n",
      "        [0.0000, 0.0000, 0.0000, 0.0000, 0.0000, 0.5000, 0.0000, 0.5000, 0.0000,\n",
      "         0.0000],\n",
      "        [0.0000, 0.1667, 0.3333, 0.0000, 0.0000, 0.0000, 0.1667, 0.3333, 0.0000,\n",
      "         0.0000],\n",
      "        [0.0000, 0.2143, 0.0714, 0.1429, 0.0000, 0.0714, 0.1429, 0.2143, 0.0714,\n",
      "         0.0714],\n",
      "        [0.8462, 0.0000, 0.0769, 0.0769, 0.0000, 0.0000, 0.0000, 0.0000, 0.0000,\n",
      "         0.0000],\n",
      "        [0.0000, 0.0000, 0.0000, 0.0000, 1.0000, 0.0000, 0.0000, 0.0000, 0.0000,\n",
      "         0.0000],\n",
      "        [0.0000, 0.0000, 0.0000, 0.0000, 0.0000, 0.5000, 0.0000, 0.5000, 0.0000,\n",
      "         0.0000],\n",
      "        [0.0000, 0.0000, 0.0000, 0.0000, 0.0000, 0.0000, 0.0000, 0.0000, 1.0000,\n",
      "         0.0000],\n",
      "        [1.0000, 0.0000, 0.0000, 0.0000, 0.0000, 0.0000, 0.0000, 0.0000, 0.0000,\n",
      "         0.0000],\n",
      "        [0.0000, 0.0000, 0.0000, 0.0000, 0.2000, 0.0000, 0.4000, 0.0000, 0.0000,\n",
      "         0.4000],\n",
      "        [0.0000, 0.0000, 0.0000, 0.3333, 0.0000, 0.0000, 0.0000, 0.0000, 0.3333,\n",
      "         0.3333],\n",
      "        [0.0000, 0.1667, 0.0833, 0.2500, 0.1667, 0.0833, 0.0000, 0.0833, 0.0833,\n",
      "         0.0833],\n",
      "        [0.0000, 0.0000, 0.0000, 0.0000, 0.0000, 0.0000, 0.0000, 1.0000, 0.0000,\n",
      "         0.0000]])\n",
      "tensor(16)\n",
      "1.1515929698944092 1.2195110321044922 0.3416561186313629\n"
     ]
    },
    {
     "data": {
      "image/png": "[encoded data removed]",
      "text/plain": [
       "<Figure size 432x288 with 1 Axes>"
      ]
     },
     "metadata": {
      "needs_background": "light"
     },
     "output_type": "display_data"
    }
   ],
   "source": [
    "prior_rec, recon_rec, vq_loss_rec, color = train_plot_model(prior_beta=1, beta=0.25, lr=lr, epochs=epochs)\n",
    "print(purity(color, label))\n",
    "print(torch.max(color))\n",
    "print(prior_rec[len(prior_rec)-1], recon_rec[len(prior_rec)-1], vq_loss_rec[len(prior_rec)-1])"
   ]
  },
  {
   "cell_type": "code",
   "execution_count": 7,
   "metadata": {},
   "outputs": [
    {
     "name": "stdout",
     "output_type": "stream",
     "text": [
      "Epoch:100, loss:4.3455\n",
      "Epoch:200, loss:2.6065\n",
      "Epoch:300, loss:2.3381\n",
      "Epoch:400, loss:2.2832\n",
      "Epoch:500, loss:2.2784\n",
      "Epoch:600, loss:2.2677\n",
      "Epoch:700, loss:2.2575\n",
      "Epoch:800, loss:2.2263\n",
      "Epoch:900, loss:2.2246\n",
      "Epoch:1000, loss:2.2248\n",
      "tensor([[0.6316, 0.0526, 0.1053, 0.0000, 0.0526, 0.0526, 0.0526, 0.0526, 0.0000,\n",
      "         0.0000],\n",
      "        [0.0000, 0.0000, 0.1429, 0.2857, 0.0000, 0.1429, 0.1429, 0.2857, 0.0000,\n",
      "         0.0000],\n",
      "        [0.0000, 0.2273, 0.1364, 0.1818, 0.0455, 0.0909, 0.0000, 0.1364, 0.0909,\n",
      "         0.0909],\n",
      "        [0.0500, 0.1500, 0.0500, 0.0500, 0.1500, 0.1000, 0.1500, 0.1000, 0.0500,\n",
      "         0.1500],\n",
      "        [0.0000, 0.0625, 0.0000, 0.0625, 0.1250, 0.0625, 0.1250, 0.1250, 0.2500,\n",
      "         0.1875],\n",
      "        [0.0000, 0.0606, 0.0909, 0.1212, 0.1515, 0.1818, 0.1212, 0.0606, 0.0606,\n",
      "         0.1515],\n",
      "        [0.0000, 0.0000, 0.1429, 0.0000, 0.1429, 0.0000, 0.1429, 0.1429, 0.4286,\n",
      "         0.0000]])\n",
      "tensor(6)\n",
      "0.7620602250099182 1.2600071430206299 0.20278136432170868\n"
     ]
    },
    {
     "data": {
      "image/png": "[encoded data removed]",
      "text/plain": [
       "<Figure size 432x288 with 1 Axes>"
      ]
     },
     "metadata": {
      "needs_background": "light"
     },
     "output_type": "display_data"
    }
   ],
   "source": [
    "prior_rec, recon_rec, vq_loss_rec, color = train_plot_model(prior_beta=1.5, beta=0.25, lr=lr, epochs=epochs)\n",
    "print(purity(color, label))\n",
    "print(torch.max(color))\n",
    "print(prior_rec[len(prior_rec)-1], recon_rec[len(prior_rec)-1], vq_loss_rec[len(prior_rec)-1])"
   ]
  },
  {
   "cell_type": "code",
   "execution_count": 8,
   "metadata": {},
   "outputs": [
    {
     "name": "stdout",
     "output_type": "stream",
     "text": [
      "Epoch:100, loss:4.2342\n",
      "Epoch:200, loss:2.6824\n",
      "Epoch:300, loss:2.4487\n",
      "Epoch:400, loss:2.3566\n",
      "Epoch:500, loss:2.3385\n",
      "Epoch:600, loss:2.3384\n",
      "Epoch:700, loss:2.2430\n",
      "Epoch:800, loss:2.2308\n",
      "Epoch:900, loss:2.2302\n",
      "Epoch:1000, loss:2.2298\n",
      "tensor([[0.0000, 0.1111, 0.1111, 0.1111, 0.1667, 0.2222, 0.0556, 0.0000, 0.0000,\n",
      "         0.2222],\n",
      "        [0.0000, 0.0000, 0.0556, 0.1111, 0.1111, 0.1667, 0.1667, 0.1111, 0.1111,\n",
      "         0.1667],\n",
      "        [0.0000, 0.0833, 0.0833, 0.0000, 0.1667, 0.0000, 0.1667, 0.1667, 0.2500,\n",
      "         0.0833],\n",
      "        [0.0000, 0.1786, 0.0714, 0.2143, 0.0714, 0.0714, 0.0357, 0.1786, 0.1071,\n",
      "         0.0714],\n",
      "        [0.0909, 0.2727, 0.1818, 0.0909, 0.1818, 0.0909, 0.0909, 0.0000, 0.0000,\n",
      "         0.0000],\n",
      "        [0.0000, 0.0000, 0.0000, 0.0000, 0.0833, 0.0833, 0.1667, 0.0833, 0.3333,\n",
      "         0.2500],\n",
      "        [0.6667, 0.0556, 0.1111, 0.0000, 0.0000, 0.0556, 0.0556, 0.0556, 0.0000,\n",
      "         0.0000],\n",
      "        [0.0000, 0.0000, 0.1429, 0.1429, 0.1429, 0.1429, 0.1429, 0.2857, 0.0000,\n",
      "         0.0000]])\n",
      "tensor(7)\n",
      "0.7790153622627258 1.1889623403549194 0.2618233561515808\n"
     ]
    },
    {
     "data": {
      "image/png": "[encoded data removed]",
      "text/plain": [
       "<Figure size 432x288 with 1 Axes>"
      ]
     },
     "metadata": {
      "needs_background": "light"
     },
     "output_type": "display_data"
    }
   ],
   "source": [
    "prior_rec, recon_rec, vq_loss_rec, color = train_plot_model(prior_beta=2, beta=0.25, lr=lr, epochs=epochs)\n",
    "print(purity(color, label))\n",
    "print(torch.max(color))\n",
    "print(prior_rec[len(prior_rec)-1], recon_rec[len(prior_rec)-1], vq_loss_rec[len(prior_rec)-1])"
   ]
  },
  {
   "cell_type": "code",
   "execution_count": 9,
   "metadata": {},
   "outputs": [
    {
     "name": "stdout",
     "output_type": "stream",
     "text": [
      "Epoch:100, loss:3.4705\n",
      "Epoch:200, loss:2.4859\n",
      "Epoch:300, loss:2.1627\n",
      "Epoch:400, loss:2.0656\n",
      "Epoch:500, loss:2.0429\n",
      "Epoch:600, loss:2.0358\n",
      "Epoch:700, loss:2.0354\n",
      "Epoch:800, loss:2.0358\n",
      "Epoch:900, loss:2.0361\n",
      "Epoch:1000, loss:2.0358\n",
      "tensor([[0.0000, 0.0000, 0.0000, 0.0000, 0.0000, 0.0000, 0.5000, 0.5000, 0.0000,\n",
      "         0.0000],\n",
      "        [0.0000, 0.0000, 0.0000, 0.0000, 0.3333, 0.0000, 0.0000, 0.0000, 0.0000,\n",
      "         0.6667],\n",
      "        [0.0000, 0.0000, 0.0000, 0.0000, 0.0000, 1.0000, 0.0000, 0.0000, 0.0000,\n",
      "         0.0000],\n",
      "        [0.0000, 0.0000, 0.0000, 0.0000, 0.0000, 0.0000, 0.5000, 0.0000, 0.5000,\n",
      "         0.0000],\n",
      "        [0.5000, 0.0000, 0.2143, 0.0714, 0.0000, 0.0000, 0.1429, 0.0714, 0.0000,\n",
      "         0.0000],\n",
      "        [0.4545, 0.0909, 0.0000, 0.0000, 0.0909, 0.1818, 0.0000, 0.1818, 0.0000,\n",
      "         0.0000],\n",
      "        [0.0000, 0.0000, 0.0000, 0.0000, 0.0000, 0.0000, 0.5000, 0.0000, 0.0000,\n",
      "         0.5000],\n",
      "        [0.0000, 0.3333, 0.0000, 0.3333, 0.3333, 0.0000, 0.0000, 0.0000, 0.0000,\n",
      "         0.0000],\n",
      "        [0.0000, 0.0000, 0.0000, 0.0000, 0.0000, 0.0000, 0.0000, 0.0000, 1.0000,\n",
      "         0.0000],\n",
      "        [0.0000, 0.1818, 0.0909, 0.0909, 0.0000, 0.0909, 0.0909, 0.2727, 0.0909,\n",
      "         0.0909],\n",
      "        [0.0000, 0.0909, 0.0909, 0.0000, 0.1818, 0.0000, 0.0909, 0.1818, 0.2727,\n",
      "         0.0909],\n",
      "        [0.0000, 0.0000, 0.0000, 0.1000, 0.0000, 0.2000, 0.1000, 0.2000, 0.2000,\n",
      "         0.2000],\n",
      "        [0.0000, 1.0000, 0.0000, 0.0000, 0.0000, 0.0000, 0.0000, 0.0000, 0.0000,\n",
      "         0.0000],\n",
      "        [0.0000, 0.1667, 0.0833, 0.2500, 0.1667, 0.0833, 0.0000, 0.0833, 0.0833,\n",
      "         0.0833],\n",
      "        [0.0000, 0.0000, 0.0000, 0.2000, 0.1000, 0.2000, 0.2000, 0.0000, 0.0000,\n",
      "         0.3000],\n",
      "        [0.0000, 0.0000, 0.2222, 0.0000, 0.2222, 0.1111, 0.1111, 0.0000, 0.2222,\n",
      "         0.1111],\n",
      "        [0.0000, 0.1429, 0.1429, 0.2857, 0.1429, 0.1429, 0.0000, 0.0000, 0.0000,\n",
      "         0.1429],\n",
      "        [0.0833, 0.2500, 0.1667, 0.0833, 0.1667, 0.1667, 0.0833, 0.0000, 0.0000,\n",
      "         0.0000],\n",
      "        [0.0000, 0.0000, 0.0000, 0.0000, 0.0000, 0.0000, 0.0000, 1.0000, 0.0000,\n",
      "         0.0000]])\n",
      "tensor(18)\n",
      "0.6709396243095398 1.087570071220398 0.27727848291397095\n"
     ]
    },
    {
     "data": {
      "image/png": "[encoded data removed]",
      "text/plain": [
       "<Figure size 432x288 with 1 Axes>"
      ]
     },
     "metadata": {
      "needs_background": "light"
     },
     "output_type": "display_data"
    }
   ],
   "source": [
    "prior_rec, recon_rec, vq_loss_rec, color = train_plot_model(prior_beta=5, beta=0.25, lr=lr, epochs=epochs)\n",
    "print(purity(color, label))\n",
    "print(torch.max(color))\n",
    "print(prior_rec[len(prior_rec)-1], recon_rec[len(prior_rec)-1], vq_loss_rec[len(prior_rec)-1])"
   ]
  },
  {
   "cell_type": "code",
   "execution_count": 10,
   "metadata": {},
   "outputs": [
    {
     "name": "stdout",
     "output_type": "stream",
     "text": [
      "Epoch:100, loss:3.2702\n",
      "Epoch:200, loss:2.3640\n",
      "Epoch:300, loss:2.0331\n",
      "Epoch:400, loss:1.9071\n",
      "Epoch:500, loss:1.8799\n",
      "Epoch:600, loss:1.8753\n",
      "Epoch:700, loss:1.8741\n",
      "Epoch:800, loss:1.8729\n",
      "Epoch:900, loss:1.8727\n",
      "Epoch:1000, loss:1.8732\n",
      "tensor([[0.0000, 0.0000, 0.0000, 0.0000, 0.0000, 0.0000, 1.0000, 0.0000, 0.0000,\n",
      "         0.0000],\n",
      "        [0.0000, 0.0000, 0.5000, 0.0000, 0.0000, 0.0000, 0.0000, 0.5000, 0.0000,\n",
      "         0.0000],\n",
      "        [0.0000, 0.0000, 0.0000, 0.0000, 0.0000, 0.0000, 0.0000, 1.0000, 0.0000,\n",
      "         0.0000],\n",
      "        [0.0000, 0.0909, 0.0909, 0.0000, 0.1818, 0.0000, 0.0909, 0.1818, 0.2727,\n",
      "         0.0909],\n",
      "        [0.0000, 0.1818, 0.0909, 0.0909, 0.0000, 0.0909, 0.0909, 0.2727, 0.0909,\n",
      "         0.0909],\n",
      "        [0.0000, 0.0000, 0.0000, 0.0000, 0.0000, 0.0000, 0.5000, 0.0000, 0.0000,\n",
      "         0.5000],\n",
      "        [0.0000, 0.1111, 0.0000, 0.2222, 0.2222, 0.1111, 0.2222, 0.0000, 0.0000,\n",
      "         0.1111],\n",
      "        [0.0000, 0.5000, 0.0000, 0.0000, 0.0000, 0.0000, 0.5000, 0.0000, 0.0000,\n",
      "         0.0000],\n",
      "        [0.0000, 0.0000, 0.0000, 0.0000, 0.0000, 1.0000, 0.0000, 0.0000, 0.0000,\n",
      "         0.0000],\n",
      "        [0.0000, 0.0000, 0.0000, 0.0000, 0.0000, 0.0000, 0.0000, 0.0000, 1.0000,\n",
      "         0.0000],\n",
      "        [0.0000, 0.0000, 0.0714, 0.0714, 0.1429, 0.2857, 0.0714, 0.0714, 0.1429,\n",
      "         0.1429],\n",
      "        [0.0000, 0.2500, 0.0000, 0.2500, 0.2500, 0.0000, 0.0000, 0.0000, 0.0000,\n",
      "         0.2500],\n",
      "        [0.1429, 0.0000, 0.1429, 0.1429, 0.1429, 0.1429, 0.1429, 0.1429, 0.0000,\n",
      "         0.0000],\n",
      "        [0.7500, 0.0000, 0.2500, 0.0000, 0.0000, 0.0000, 0.0000, 0.0000, 0.0000,\n",
      "         0.0000],\n",
      "        [0.0909, 0.2727, 0.1818, 0.0909, 0.1818, 0.0909, 0.0909, 0.0000, 0.0000,\n",
      "         0.0000],\n",
      "        [0.0000, 0.0000, 0.2000, 0.2000, 0.0000, 0.2000, 0.0000, 0.0000, 0.0000,\n",
      "         0.4000],\n",
      "        [0.6250, 0.1250, 0.0000, 0.0000, 0.0000, 0.1250, 0.0000, 0.1250, 0.0000,\n",
      "         0.0000],\n",
      "        [0.0000, 0.0000, 0.0000, 0.0000, 0.0000, 0.2500, 0.0000, 0.2500, 0.5000,\n",
      "         0.0000],\n",
      "        [0.0000, 0.0000, 0.0000, 0.0000, 0.2000, 0.0000, 0.2000, 0.0000, 0.2000,\n",
      "         0.4000],\n",
      "        [0.0000, 0.0000, 0.0000, 0.0000, 0.0000, 1.0000, 0.0000, 0.0000, 0.0000,\n",
      "         0.0000],\n",
      "        [0.0000, 0.0000, 0.0000, 1.0000, 0.0000, 0.0000, 0.0000, 0.0000, 0.0000,\n",
      "         0.0000],\n",
      "        [0.0000, 0.0000, 0.0000, 0.0000, 0.0000, 0.0000, 0.0000, 0.0000, 1.0000,\n",
      "         0.0000],\n",
      "        [0.0000, 0.0000, 0.0000, 0.0000, 0.0000, 0.0000, 0.0000, 1.0000, 0.0000,\n",
      "         0.0000],\n",
      "        [0.0000, 0.0000, 0.0000, 0.0000, 0.0000, 0.0000, 1.0000, 0.0000, 0.0000,\n",
      "         0.0000],\n",
      "        [0.0000, 0.2500, 0.2500, 0.0000, 0.0000, 0.0000, 0.0000, 0.2500, 0.0000,\n",
      "         0.2500],\n",
      "        [0.0000, 0.1429, 0.0000, 0.4286, 0.2857, 0.0000, 0.0000, 0.0000, 0.1429,\n",
      "         0.0000],\n",
      "        [0.0000, 0.0000, 0.0000, 0.0000, 0.0000, 0.0000, 0.0000, 0.0000, 0.0000,\n",
      "         1.0000]])\n",
      "tensor(26)\n",
      "0.6189850568771362 1.0487841367721558 0.20538154244422913\n"
     ]
    },
    {
     "data": {
      "image/png": "[encoded data removed]",
      "text/plain": [
       "<Figure size 432x288 with 1 Axes>"
      ]
     },
     "metadata": {
      "needs_background": "light"
     },
     "output_type": "display_data"
    }
   ],
   "source": [
    "prior_rec, recon_rec, vq_loss_rec, color = train_plot_model(prior_beta=10, beta=0.25, lr=lr, epochs=epochs)\n",
    "print(purity(color, label))\n",
    "print(torch.max(color))\n",
    "print(prior_rec[len(prior_rec)-1], recon_rec[len(prior_rec)-1], vq_loss_rec[len(prior_rec)-1])"
   ]
  },
  {
   "cell_type": "code",
   "execution_count": 11,
   "metadata": {},
   "outputs": [
    {
     "name": "stdout",
     "output_type": "stream",
     "text": [
      "Epoch:100, loss:3.3009\n",
      "Epoch:200, loss:2.4561\n",
      "Epoch:300, loss:2.1987\n",
      "Epoch:400, loss:2.0637\n",
      "Epoch:500, loss:1.9951\n",
      "Epoch:600, loss:1.9616\n",
      "Epoch:700, loss:1.9488\n",
      "Epoch:800, loss:1.9371\n",
      "Epoch:900, loss:1.9364\n",
      "Epoch:1000, loss:1.9366\n",
      "tensor([[1.0000, 0.0000, 0.0000, 0.0000, 0.0000, 0.0000, 0.0000, 0.0000, 0.0000,\n",
      "         0.0000],\n",
      "        [0.8000, 0.0000, 0.0000, 0.0000, 0.0000, 0.1000, 0.1000, 0.0000, 0.0000,\n",
      "         0.0000],\n",
      "        [0.2857, 0.1429, 0.4286, 0.0000, 0.0000, 0.0000, 0.0000, 0.1429, 0.0000,\n",
      "         0.0000],\n",
      "        [0.0000, 0.0000, 0.0000, 0.5000, 0.0000, 0.0000, 0.5000, 0.0000, 0.0000,\n",
      "         0.0000],\n",
      "        [0.0000, 0.0000, 0.0000, 0.3333, 0.0000, 0.3333, 0.0000, 0.3333, 0.0000,\n",
      "         0.0000],\n",
      "        [0.0000, 0.3750, 0.1250, 0.0000, 0.0000, 0.0000, 0.1250, 0.1250, 0.1250,\n",
      "         0.1250],\n",
      "        [0.0000, 0.0000, 0.0000, 0.5000, 0.0000, 0.0000, 0.0000, 0.5000, 0.0000,\n",
      "         0.0000],\n",
      "        [0.2000, 0.0000, 0.0000, 0.0000, 0.2000, 0.2000, 0.0000, 0.4000, 0.0000,\n",
      "         0.0000],\n",
      "        [0.0000, 0.0000, 0.0000, 0.0000, 0.0000, 0.0000, 1.0000, 0.0000, 0.0000,\n",
      "         0.0000],\n",
      "        [0.0000, 0.0000, 0.0000, 0.0000, 0.0000, 0.0000, 0.0000, 0.0000, 0.0000,\n",
      "         1.0000],\n",
      "        [0.0000, 0.1429, 0.1429, 0.0000, 0.2857, 0.1429, 0.2857, 0.0000, 0.0000,\n",
      "         0.0000],\n",
      "        [0.0000, 0.1429, 0.1429, 0.1429, 0.1429, 0.1429, 0.0000, 0.1429, 0.0000,\n",
      "         0.1429],\n",
      "        [0.1250, 0.2500, 0.1250, 0.0000, 0.2500, 0.1250, 0.1250, 0.0000, 0.0000,\n",
      "         0.0000],\n",
      "        [0.0000, 0.0000, 0.0000, 0.0000, 0.5000, 0.0000, 0.0000, 0.0000, 0.0000,\n",
      "         0.5000],\n",
      "        [0.0000, 0.1000, 0.1000, 0.0000, 0.1000, 0.0000, 0.1000, 0.2000, 0.3000,\n",
      "         0.1000],\n",
      "        [0.0000, 0.0000, 0.2500, 0.0000, 0.0000, 0.2500, 0.0000, 0.5000, 0.0000,\n",
      "         0.0000],\n",
      "        [0.0000, 0.3333, 0.3333, 0.0000, 0.0000, 0.3333, 0.0000, 0.0000, 0.0000,\n",
      "         0.0000],\n",
      "        [0.0000, 0.0000, 0.0000, 0.0000, 0.3333, 0.0000, 0.0000, 0.0000, 0.3333,\n",
      "         0.3333],\n",
      "        [0.0000, 0.0000, 0.0000, 0.0000, 0.0000, 0.5000, 0.0000, 0.0000, 0.5000,\n",
      "         0.0000],\n",
      "        [0.0000, 0.0000, 0.0000, 0.0000, 0.0000, 0.0000, 0.3333, 0.0000, 0.0000,\n",
      "         0.6667],\n",
      "        [0.0000, 0.1667, 0.0000, 0.5000, 0.1667, 0.0000, 0.0000, 0.0000, 0.1667,\n",
      "         0.0000],\n",
      "        [0.0000, 0.0000, 0.0000, 0.0000, 0.0000, 0.0000, 0.0000, 1.0000, 0.0000,\n",
      "         0.0000],\n",
      "        [0.0000, 0.0000, 0.0000, 0.0000, 0.0000, 0.0000, 1.0000, 0.0000, 0.0000,\n",
      "         0.0000],\n",
      "        [0.0000, 0.0000, 0.0000, 0.4000, 0.0000, 0.2000, 0.0000, 0.0000, 0.0000,\n",
      "         0.4000],\n",
      "        [0.0000, 0.0000, 0.0000, 0.0000, 0.0000, 0.0000, 0.5000, 0.0000, 0.0000,\n",
      "         0.5000],\n",
      "        [0.0000, 0.0000, 0.0000, 0.2000, 0.0000, 0.2000, 0.0000, 0.2000, 0.2000,\n",
      "         0.2000],\n",
      "        [0.0000, 0.1000, 0.0000, 0.2000, 0.3000, 0.2000, 0.1000, 0.0000, 0.1000,\n",
      "         0.0000],\n",
      "        [0.0000, 0.0000, 0.0000, 0.0000, 0.0000, 0.0000, 0.0000, 0.0000, 1.0000,\n",
      "         0.0000],\n",
      "        [0.0000, 0.0000, 0.3333, 0.0000, 0.0000, 0.0000, 0.0000, 0.0000, 0.3333,\n",
      "         0.3333]])\n",
      "tensor(28)\n",
      "0.7723552584648132 1.0163859128952026 0.14786431193351746\n"
     ]
    },
    {
     "data": {
      "image/png": "[encoded data removed]",
      "text/plain": [
       "<Figure size 432x288 with 1 Axes>"
      ]
     },
     "metadata": {
      "needs_background": "light"
     },
     "output_type": "display_data"
    }
   ],
   "source": [
    "prior_rec, recon_rec, vq_loss_rec, color = train_plot_model(prior_beta=20, beta=0.25, lr=lr, epochs=epochs)\n",
    "print(purity(color, label))\n",
    "print(torch.max(color))\n",
    "print(prior_rec[len(prior_rec)-1], recon_rec[len(prior_rec)-1], vq_loss_rec[len(prior_rec)-1])"
   ]
  },
  {
   "cell_type": "code",
   "execution_count": 12,
   "metadata": {},
   "outputs": [
    {
     "name": "stdout",
     "output_type": "stream",
     "text": [
      "Epoch:100, loss:4.3558\n",
      "Epoch:200, loss:3.3652\n",
      "Epoch:300, loss:3.1351\n",
      "Epoch:400, loss:3.0067\n",
      "Epoch:500, loss:2.9508\n",
      "Epoch:600, loss:2.9274\n",
      "Epoch:700, loss:2.9263\n",
      "Epoch:800, loss:2.9256\n",
      "Epoch:900, loss:2.9252\n",
      "Epoch:1000, loss:2.9251\n",
      "tensor([[1.0000, 0.0000, 0.0000, 0.0000, 0.0000, 0.0000, 0.0000, 0.0000, 0.0000,\n",
      "         0.0000],\n",
      "        [0.0000, 0.0000, 0.0000, 0.3333, 0.0000, 0.3333, 0.0000, 0.3333, 0.0000,\n",
      "         0.0000],\n",
      "        [1.0000, 0.0000, 0.0000, 0.0000, 0.0000, 0.0000, 0.0000, 0.0000, 0.0000,\n",
      "         0.0000],\n",
      "        [0.0000, 0.2857, 0.1429, 0.1429, 0.0000, 0.0000, 0.1429, 0.1429, 0.0000,\n",
      "         0.1429],\n",
      "        [0.0000, 0.5000, 0.0000, 0.0000, 0.5000, 0.0000, 0.0000, 0.0000, 0.0000,\n",
      "         0.0000],\n",
      "        [0.6000, 0.0000, 0.4000, 0.0000, 0.0000, 0.0000, 0.0000, 0.0000, 0.0000,\n",
      "         0.0000],\n",
      "        [0.0000, 0.0000, 0.0000, 0.4000, 0.0000, 0.2000, 0.0000, 0.0000, 0.0000,\n",
      "         0.4000],\n",
      "        [0.0000, 0.0000, 0.0000, 0.0000, 0.5000, 0.0000, 0.0000, 0.0000, 0.0000,\n",
      "         0.5000],\n",
      "        [0.0000, 0.0000, 0.0000, 0.0000, 0.0000, 0.3333, 0.3333, 0.0000, 0.0000,\n",
      "         0.3333],\n",
      "        [0.0000, 0.0000, 0.3333, 0.0000, 0.0000, 0.0000, 0.0000, 0.3333, 0.0000,\n",
      "         0.3333],\n",
      "        [1.0000, 0.0000, 0.0000, 0.0000, 0.0000, 0.0000, 0.0000, 0.0000, 0.0000,\n",
      "         0.0000],\n",
      "        [0.0000, 0.0000, 0.2500, 0.0000, 0.0000, 0.2500, 0.5000, 0.0000, 0.0000,\n",
      "         0.0000],\n",
      "        [0.0000, 0.0000, 0.0000, 0.0000, 0.0000, 0.3333, 0.3333, 0.3333, 0.0000,\n",
      "         0.0000],\n",
      "        [0.0000, 0.2500, 0.0000, 0.0000, 0.0000, 0.0000, 0.0000, 0.2500, 0.5000,\n",
      "         0.0000],\n",
      "        [0.0000, 0.2500, 0.0000, 0.0000, 0.2500, 0.0000, 0.0000, 0.0000, 0.2500,\n",
      "         0.2500],\n",
      "        [0.0000, 0.3333, 0.3333, 0.0000, 0.0000, 0.3333, 0.0000, 0.0000, 0.0000,\n",
      "         0.0000],\n",
      "        [0.0000, 0.0000, 0.1250, 0.0000, 0.1250, 0.0000, 0.1250, 0.2500, 0.2500,\n",
      "         0.1250],\n",
      "        [0.0000, 0.0000, 0.0000, 0.0000, 0.2000, 0.0000, 0.4000, 0.0000, 0.2000,\n",
      "         0.2000],\n",
      "        [0.0000, 0.0000, 0.0000, 0.1667, 0.1667, 0.1667, 0.1667, 0.3333, 0.0000,\n",
      "         0.0000],\n",
      "        [0.0000, 0.0000, 0.0000, 0.3333, 0.3333, 0.0000, 0.3333, 0.0000, 0.0000,\n",
      "         0.0000],\n",
      "        [0.0000, 0.2000, 0.0000, 0.4000, 0.0000, 0.0000, 0.0000, 0.2000, 0.0000,\n",
      "         0.2000],\n",
      "        [0.0000, 0.0000, 0.0000, 0.0000, 0.0000, 0.0000, 0.0000, 0.0000, 0.0000,\n",
      "         1.0000],\n",
      "        [0.0000, 0.1667, 0.1667, 0.1667, 0.3333, 0.0000, 0.0000, 0.0000, 0.1667,\n",
      "         0.0000],\n",
      "        [0.0000, 0.0000, 0.0000, 0.0000, 0.0000, 0.0000, 0.5000, 0.5000, 0.0000,\n",
      "         0.0000],\n",
      "        [0.0000, 0.0000, 0.0000, 0.1429, 0.0000, 0.1429, 0.0000, 0.1429, 0.4286,\n",
      "         0.1429],\n",
      "        [0.0000, 0.0000, 0.0000, 0.0000, 0.0000, 0.5000, 0.0000, 0.5000, 0.0000,\n",
      "         0.0000],\n",
      "        [0.0000, 0.3333, 0.0000, 0.0000, 0.3333, 0.3333, 0.0000, 0.0000, 0.0000,\n",
      "         0.0000],\n",
      "        [0.0000, 0.1667, 0.1667, 0.1667, 0.1667, 0.1667, 0.1667, 0.0000, 0.0000,\n",
      "         0.0000],\n",
      "        [0.0000, 0.0000, 0.1429, 0.1429, 0.1429, 0.1429, 0.0000, 0.0000, 0.2857,\n",
      "         0.1429],\n",
      "        [0.1667, 0.3333, 0.1667, 0.0000, 0.1667, 0.1667, 0.0000, 0.0000, 0.0000,\n",
      "         0.0000]])\n",
      "tensor(29)\n",
      "1.7772613763809204 1.0079089403152466 0.13990285992622375\n"
     ]
    },
    {
     "data": {
      "image/png": "[encoded data removed]",
      "text/plain": [
       "<Figure size 432x288 with 1 Axes>"
      ]
     },
     "metadata": {
      "needs_background": "light"
     },
     "output_type": "display_data"
    }
   ],
   "source": [
    "prior_rec, recon_rec, vq_loss_rec, color = train_plot_model(prior_beta=100, beta=0.25, lr=lr, epochs=epochs)\n",
    "print(purity(color, label))\n",
    "print(torch.max(color))\n",
    "print(prior_rec[epochs-1], recon_rec[epochs-1], vq_loss_rec[epochs-1])"
   ]
  },
  {
   "cell_type": "code",
   "execution_count": 13,
   "metadata": {},
   "outputs": [
    {
     "name": "stdout",
     "output_type": "stream",
     "text": [
      "Epoch:100, loss:5.9397\n",
      "Epoch:200, loss:5.1963\n",
      "Epoch:300, loss:4.9103\n",
      "Epoch:400, loss:4.7993\n",
      "Epoch:500, loss:4.7412\n",
      "Epoch:600, loss:4.7161\n",
      "Epoch:700, loss:4.7083\n",
      "Epoch:800, loss:4.7044\n",
      "Epoch:900, loss:4.7030\n",
      "Epoch:1000, loss:4.7022\n",
      "tensor([[1.0000, 0.0000, 0.0000, 0.0000, 0.0000, 0.0000, 0.0000, 0.0000, 0.0000,\n",
      "         0.0000],\n",
      "        [1.0000, 0.0000, 0.0000, 0.0000, 0.0000, 0.0000, 0.0000, 0.0000, 0.0000,\n",
      "         0.0000],\n",
      "        [0.1111, 0.2222, 0.1111, 0.1111, 0.2222, 0.1111, 0.1111, 0.0000, 0.0000,\n",
      "         0.0000],\n",
      "        [0.0000, 0.1429, 0.1429, 0.1429, 0.0000, 0.1429, 0.0000, 0.2857, 0.0000,\n",
      "         0.1429],\n",
      "        [0.0000, 0.3333, 0.0000, 0.1667, 0.0000, 0.0000, 0.1667, 0.1667, 0.1667,\n",
      "         0.0000],\n",
      "        [0.0000, 0.3333, 0.3333, 0.0000, 0.0000, 0.3333, 0.0000, 0.0000, 0.0000,\n",
      "         0.0000],\n",
      "        [0.0000, 0.3333, 0.0000, 0.0000, 0.3333, 0.3333, 0.0000, 0.0000, 0.0000,\n",
      "         0.0000],\n",
      "        [0.3333, 0.0000, 0.6667, 0.0000, 0.0000, 0.0000, 0.0000, 0.0000, 0.0000,\n",
      "         0.0000],\n",
      "        [0.0000, 0.0000, 0.0000, 0.0000, 0.0000, 0.0000, 0.3333, 0.0000, 0.3333,\n",
      "         0.3333],\n",
      "        [0.0000, 0.0000, 0.0000, 0.0000, 0.0000, 0.6667, 0.0000, 0.3333, 0.0000,\n",
      "         0.0000],\n",
      "        [0.6667, 0.0000, 0.3333, 0.0000, 0.0000, 0.0000, 0.0000, 0.0000, 0.0000,\n",
      "         0.0000],\n",
      "        [0.0000, 0.0000, 0.0000, 0.5000, 0.0000, 0.0000, 0.0000, 0.0000, 0.0000,\n",
      "         0.5000],\n",
      "        [0.0000, 0.0000, 0.3333, 0.0000, 0.0000, 0.0000, 0.3333, 0.3333, 0.0000,\n",
      "         0.0000],\n",
      "        [0.0000, 0.0000, 0.0000, 0.0769, 0.0769, 0.0769, 0.1538, 0.0769, 0.3077,\n",
      "         0.2308],\n",
      "        [0.0000, 0.3333, 0.0000, 0.0000, 0.3333, 0.0000, 0.0000, 0.3333, 0.0000,\n",
      "         0.0000],\n",
      "        [0.0000, 0.0000, 0.0000, 0.0000, 0.5000, 0.0000, 0.5000, 0.0000, 0.0000,\n",
      "         0.0000],\n",
      "        [0.0000, 0.0000, 0.0000, 0.0000, 0.0000, 0.0000, 0.5000, 0.5000, 0.0000,\n",
      "         0.0000],\n",
      "        [0.0000, 0.0000, 0.0000, 0.0000, 0.0000, 0.0000, 0.5000, 0.0000, 0.0000,\n",
      "         0.5000],\n",
      "        [0.0000, 0.0000, 0.3333, 0.3333, 0.0000, 0.3333, 0.0000, 0.0000, 0.0000,\n",
      "         0.0000],\n",
      "        [0.0000, 0.0000, 0.0000, 0.2500, 0.2500, 0.2500, 0.2500, 0.0000, 0.0000,\n",
      "         0.0000],\n",
      "        [0.0000, 0.0000, 0.0000, 0.0000, 0.0000, 0.0000, 0.0000, 0.0000, 0.0000,\n",
      "         1.0000],\n",
      "        [0.0000, 0.2500, 0.0000, 0.0000, 0.0000, 0.2500, 0.0000, 0.5000, 0.0000,\n",
      "         0.0000],\n",
      "        [0.0000, 0.1111, 0.1111, 0.0000, 0.1111, 0.0000, 0.1111, 0.2222, 0.2222,\n",
      "         0.1111],\n",
      "        [0.0000, 0.0000, 0.2500, 0.0000, 0.2500, 0.2500, 0.0000, 0.0000, 0.2500,\n",
      "         0.0000],\n",
      "        [0.0000, 0.0000, 0.0000, 0.0000, 0.5000, 0.0000, 0.0000, 0.0000, 0.5000,\n",
      "         0.0000],\n",
      "        [0.0000, 0.2000, 0.0000, 0.6000, 0.0000, 0.0000, 0.0000, 0.0000, 0.0000,\n",
      "         0.2000],\n",
      "        [0.0000, 0.0000, 0.0000, 0.0000, 0.0000, 0.0000, 0.0000, 1.0000, 0.0000,\n",
      "         0.0000],\n",
      "        [0.0000, 0.0000, 0.0000, 0.0000, 0.0000, 0.0000, 0.5000, 0.0000, 0.0000,\n",
      "         0.5000],\n",
      "        [0.0000, 0.0000, 0.2000, 0.0000, 0.4000, 0.0000, 0.0000, 0.0000, 0.2000,\n",
      "         0.2000],\n",
      "        [0.0000, 0.1429, 0.0000, 0.2857, 0.1429, 0.2857, 0.0000, 0.0000, 0.1429,\n",
      "         0.0000]])\n",
      "tensor(29)\n",
      "3.531473398208618 1.0309545993804932 0.1397375762462616\n"
     ]
    },
    {
     "data": {
      "image/png": "[encoded data removed]",
      "text/plain": [
       "<Figure size 432x288 with 1 Axes>"
      ]
     },
     "metadata": {
      "needs_background": "light"
     },
     "output_type": "display_data"
    }
   ],
   "source": [
    "prior_rec, recon_rec, vq_loss_rec, color = train_plot_model(prior_beta=10000, beta=0.25, lr=lr, epochs=epochs)\n",
    "print(purity(color, label))\n",
    "print(torch.max(color))\n",
    "print(prior_rec[epochs-1], recon_rec[epochs-1], vq_loss_rec[epochs-1])"
   ]
  }
 ],
 "metadata": {
  "kernelspec": {
   "display_name": "Python 3.9.7 ('base')",
   "language": "python",
   "name": "python3"
  },
  "language_info": {
   "codemirror_mode": {
    "name": "ipython",
    "version": 3
   },
   "file_extension": ".py",
   "mimetype": "text/x-python",
   "name": "python",
   "nbconvert_exporter": "python",
   "pygments_lexer": "ipython3",
   "version": "3.9.7"
  },
  "orig_nbformat": 4,
  "vscode": {
   "interpreter": {
    "hash": "070abceb24e738bbd6634274827241c1c175321cca14cfcc03bf4e6ff7b889ca"
   }
  }
 },
 "nbformat": 4,
 "nbformat_minor": 2
}
